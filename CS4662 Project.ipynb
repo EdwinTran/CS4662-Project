{
 "cells": [
  {
   "cell_type": "markdown",
   "id": "1ffa2e61",
   "metadata": {},
   "source": [
    "# CS4662 Project: Tabular Playground Series"
   ]
  },
  {
   "cell_type": "markdown",
   "id": "d6687c6e",
   "metadata": {},
   "source": [
    "### Students: Joshua Cabrera, Dearo Yam, Edwin Tran"
   ]
  },
  {
   "cell_type": "code",
   "execution_count": 1,
   "id": "fac1e14b",
   "metadata": {},
   "outputs": [],
   "source": [
    "import numpy as np\n",
    "import pandas as pd"
   ]
  },
  {
   "cell_type": "code",
   "execution_count": 2,
   "id": "ef3f8643",
   "metadata": {},
   "outputs": [
    {
     "data": {
      "text/html": [
       "<div>\n",
       "<style scoped>\n",
       "    .dataframe tbody tr th:only-of-type {\n",
       "        vertical-align: middle;\n",
       "    }\n",
       "\n",
       "    .dataframe tbody tr th {\n",
       "        vertical-align: top;\n",
       "    }\n",
       "\n",
       "    .dataframe thead th {\n",
       "        text-align: right;\n",
       "    }\n",
       "</style>\n",
       "<table border=\"1\" class=\"dataframe\">\n",
       "  <thead>\n",
       "    <tr style=\"text-align: right;\">\n",
       "      <th></th>\n",
       "      <th>sequence</th>\n",
       "      <th>subject</th>\n",
       "      <th>step</th>\n",
       "      <th>sensor_00</th>\n",
       "      <th>sensor_01</th>\n",
       "      <th>sensor_02</th>\n",
       "      <th>sensor_03</th>\n",
       "      <th>sensor_04</th>\n",
       "      <th>sensor_05</th>\n",
       "      <th>sensor_06</th>\n",
       "      <th>sensor_07</th>\n",
       "      <th>sensor_08</th>\n",
       "      <th>sensor_09</th>\n",
       "      <th>sensor_10</th>\n",
       "      <th>sensor_11</th>\n",
       "      <th>sensor_12</th>\n",
       "    </tr>\n",
       "  </thead>\n",
       "  <tbody>\n",
       "    <tr>\n",
       "      <th>0</th>\n",
       "      <td>0</td>\n",
       "      <td>47</td>\n",
       "      <td>0</td>\n",
       "      <td>-0.196291</td>\n",
       "      <td>0.112395</td>\n",
       "      <td>1.000000</td>\n",
       "      <td>0.329204</td>\n",
       "      <td>-1.004660</td>\n",
       "      <td>-0.131638</td>\n",
       "      <td>-0.127505</td>\n",
       "      <td>0.368702</td>\n",
       "      <td>-0.1</td>\n",
       "      <td>-0.963873</td>\n",
       "      <td>-0.985069</td>\n",
       "      <td>0.531893</td>\n",
       "      <td>4.751492</td>\n",
       "    </tr>\n",
       "    <tr>\n",
       "      <th>1</th>\n",
       "      <td>0</td>\n",
       "      <td>47</td>\n",
       "      <td>1</td>\n",
       "      <td>-0.447450</td>\n",
       "      <td>0.134454</td>\n",
       "      <td>1.000000</td>\n",
       "      <td>-0.658407</td>\n",
       "      <td>0.162495</td>\n",
       "      <td>0.340314</td>\n",
       "      <td>-0.209472</td>\n",
       "      <td>-0.867176</td>\n",
       "      <td>0.2</td>\n",
       "      <td>-0.301301</td>\n",
       "      <td>0.082733</td>\n",
       "      <td>-0.231481</td>\n",
       "      <td>0.454390</td>\n",
       "    </tr>\n",
       "    <tr>\n",
       "      <th>2</th>\n",
       "      <td>0</td>\n",
       "      <td>47</td>\n",
       "      <td>2</td>\n",
       "      <td>0.326893</td>\n",
       "      <td>-0.694328</td>\n",
       "      <td>1.000000</td>\n",
       "      <td>0.330088</td>\n",
       "      <td>0.473678</td>\n",
       "      <td>1.280479</td>\n",
       "      <td>-0.094718</td>\n",
       "      <td>0.535878</td>\n",
       "      <td>1.4</td>\n",
       "      <td>1.002168</td>\n",
       "      <td>0.449221</td>\n",
       "      <td>-0.586420</td>\n",
       "      <td>-4.736147</td>\n",
       "    </tr>\n",
       "    <tr>\n",
       "      <th>3</th>\n",
       "      <td>0</td>\n",
       "      <td>47</td>\n",
       "      <td>3</td>\n",
       "      <td>0.523184</td>\n",
       "      <td>0.751050</td>\n",
       "      <td>1.000000</td>\n",
       "      <td>0.976991</td>\n",
       "      <td>-0.563287</td>\n",
       "      <td>-0.720269</td>\n",
       "      <td>0.793260</td>\n",
       "      <td>0.951145</td>\n",
       "      <td>-0.3</td>\n",
       "      <td>-0.995665</td>\n",
       "      <td>-0.434290</td>\n",
       "      <td>1.344650</td>\n",
       "      <td>0.429241</td>\n",
       "    </tr>\n",
       "    <tr>\n",
       "      <th>4</th>\n",
       "      <td>0</td>\n",
       "      <td>47</td>\n",
       "      <td>4</td>\n",
       "      <td>0.272025</td>\n",
       "      <td>1.074580</td>\n",
       "      <td>1.000000</td>\n",
       "      <td>-0.136283</td>\n",
       "      <td>0.398579</td>\n",
       "      <td>0.044877</td>\n",
       "      <td>0.560109</td>\n",
       "      <td>-0.541985</td>\n",
       "      <td>-0.9</td>\n",
       "      <td>1.055636</td>\n",
       "      <td>0.812631</td>\n",
       "      <td>0.123457</td>\n",
       "      <td>-0.223359</td>\n",
       "    </tr>\n",
       "    <tr>\n",
       "      <th>...</th>\n",
       "      <td>...</td>\n",
       "      <td>...</td>\n",
       "      <td>...</td>\n",
       "      <td>...</td>\n",
       "      <td>...</td>\n",
       "      <td>...</td>\n",
       "      <td>...</td>\n",
       "      <td>...</td>\n",
       "      <td>...</td>\n",
       "      <td>...</td>\n",
       "      <td>...</td>\n",
       "      <td>...</td>\n",
       "      <td>...</td>\n",
       "      <td>...</td>\n",
       "      <td>...</td>\n",
       "      <td>...</td>\n",
       "    </tr>\n",
       "    <tr>\n",
       "      <th>99995</th>\n",
       "      <td>1666</td>\n",
       "      <td>23</td>\n",
       "      <td>35</td>\n",
       "      <td>0.007728</td>\n",
       "      <td>0.445378</td>\n",
       "      <td>-0.666153</td>\n",
       "      <td>0.158407</td>\n",
       "      <td>-1.735990</td>\n",
       "      <td>-1.660434</td>\n",
       "      <td>0.163934</td>\n",
       "      <td>0.057252</td>\n",
       "      <td>-0.3</td>\n",
       "      <td>0.279624</td>\n",
       "      <td>-4.449221</td>\n",
       "      <td>0.177984</td>\n",
       "      <td>-0.037937</td>\n",
       "    </tr>\n",
       "    <tr>\n",
       "      <th>99996</th>\n",
       "      <td>1666</td>\n",
       "      <td>23</td>\n",
       "      <td>36</td>\n",
       "      <td>0.344668</td>\n",
       "      <td>0.263655</td>\n",
       "      <td>-0.846153</td>\n",
       "      <td>0.186726</td>\n",
       "      <td>-0.591884</td>\n",
       "      <td>2.114435</td>\n",
       "      <td>0.289617</td>\n",
       "      <td>0.093130</td>\n",
       "      <td>-1.4</td>\n",
       "      <td>0.295520</td>\n",
       "      <td>-0.984081</td>\n",
       "      <td>0.240741</td>\n",
       "      <td>-0.321398</td>\n",
       "    </tr>\n",
       "    <tr>\n",
       "      <th>99997</th>\n",
       "      <td>1666</td>\n",
       "      <td>23</td>\n",
       "      <td>37</td>\n",
       "      <td>-0.823029</td>\n",
       "      <td>0.276261</td>\n",
       "      <td>-0.999486</td>\n",
       "      <td>-0.342478</td>\n",
       "      <td>0.666204</td>\n",
       "      <td>0.095737</td>\n",
       "      <td>-0.579235</td>\n",
       "      <td>-0.605344</td>\n",
       "      <td>1.2</td>\n",
       "      <td>-0.476879</td>\n",
       "      <td>1.201545</td>\n",
       "      <td>0.398148</td>\n",
       "      <td>-0.008525</td>\n",
       "    </tr>\n",
       "    <tr>\n",
       "      <th>99998</th>\n",
       "      <td>1666</td>\n",
       "      <td>23</td>\n",
       "      <td>38</td>\n",
       "      <td>0.804482</td>\n",
       "      <td>-1.215336</td>\n",
       "      <td>-0.999486</td>\n",
       "      <td>1.169912</td>\n",
       "      <td>0.925648</td>\n",
       "      <td>0.618549</td>\n",
       "      <td>0.232240</td>\n",
       "      <td>1.480916</td>\n",
       "      <td>-2.2</td>\n",
       "      <td>-0.086705</td>\n",
       "      <td>1.671886</td>\n",
       "      <td>0.023663</td>\n",
       "      <td>-0.063939</td>\n",
       "    </tr>\n",
       "    <tr>\n",
       "      <th>99999</th>\n",
       "      <td>1666</td>\n",
       "      <td>23</td>\n",
       "      <td>39</td>\n",
       "      <td>0.221020</td>\n",
       "      <td>1.496849</td>\n",
       "      <td>-0.999486</td>\n",
       "      <td>-0.725664</td>\n",
       "      <td>0.356517</td>\n",
       "      <td>0.453254</td>\n",
       "      <td>0.754098</td>\n",
       "      <td>-0.754198</td>\n",
       "      <td>0.9</td>\n",
       "      <td>-0.437861</td>\n",
       "      <td>0.927202</td>\n",
       "      <td>-0.338477</td>\n",
       "      <td>0.121057</td>\n",
       "    </tr>\n",
       "  </tbody>\n",
       "</table>\n",
       "<p>100000 rows × 16 columns</p>\n",
       "</div>"
      ],
      "text/plain": [
       "       sequence  subject  step  sensor_00  sensor_01  sensor_02  sensor_03  \\\n",
       "0             0       47     0  -0.196291   0.112395   1.000000   0.329204   \n",
       "1             0       47     1  -0.447450   0.134454   1.000000  -0.658407   \n",
       "2             0       47     2   0.326893  -0.694328   1.000000   0.330088   \n",
       "3             0       47     3   0.523184   0.751050   1.000000   0.976991   \n",
       "4             0       47     4   0.272025   1.074580   1.000000  -0.136283   \n",
       "...         ...      ...   ...        ...        ...        ...        ...   \n",
       "99995      1666       23    35   0.007728   0.445378  -0.666153   0.158407   \n",
       "99996      1666       23    36   0.344668   0.263655  -0.846153   0.186726   \n",
       "99997      1666       23    37  -0.823029   0.276261  -0.999486  -0.342478   \n",
       "99998      1666       23    38   0.804482  -1.215336  -0.999486   1.169912   \n",
       "99999      1666       23    39   0.221020   1.496849  -0.999486  -0.725664   \n",
       "\n",
       "       sensor_04  sensor_05  sensor_06  sensor_07  sensor_08  sensor_09  \\\n",
       "0      -1.004660  -0.131638  -0.127505   0.368702       -0.1  -0.963873   \n",
       "1       0.162495   0.340314  -0.209472  -0.867176        0.2  -0.301301   \n",
       "2       0.473678   1.280479  -0.094718   0.535878        1.4   1.002168   \n",
       "3      -0.563287  -0.720269   0.793260   0.951145       -0.3  -0.995665   \n",
       "4       0.398579   0.044877   0.560109  -0.541985       -0.9   1.055636   \n",
       "...          ...        ...        ...        ...        ...        ...   \n",
       "99995  -1.735990  -1.660434   0.163934   0.057252       -0.3   0.279624   \n",
       "99996  -0.591884   2.114435   0.289617   0.093130       -1.4   0.295520   \n",
       "99997   0.666204   0.095737  -0.579235  -0.605344        1.2  -0.476879   \n",
       "99998   0.925648   0.618549   0.232240   1.480916       -2.2  -0.086705   \n",
       "99999   0.356517   0.453254   0.754098  -0.754198        0.9  -0.437861   \n",
       "\n",
       "       sensor_10  sensor_11  sensor_12  \n",
       "0      -0.985069   0.531893   4.751492  \n",
       "1       0.082733  -0.231481   0.454390  \n",
       "2       0.449221  -0.586420  -4.736147  \n",
       "3      -0.434290   1.344650   0.429241  \n",
       "4       0.812631   0.123457  -0.223359  \n",
       "...          ...        ...        ...  \n",
       "99995  -4.449221   0.177984  -0.037937  \n",
       "99996  -0.984081   0.240741  -0.321398  \n",
       "99997   1.201545   0.398148  -0.008525  \n",
       "99998   1.671886   0.023663  -0.063939  \n",
       "99999   0.927202  -0.338477   0.121057  \n",
       "\n",
       "[100000 rows x 16 columns]"
      ]
     },
     "execution_count": 2,
     "metadata": {},
     "output_type": "execute_result"
    }
   ],
   "source": [
    "df = pd.read_csv(\"https://media.githubusercontent.com/media/EdwinTran/CS4662-Project/main/train.csv\")\n",
    "df = df.iloc[:100000]\n",
    "df"
   ]
  },
  {
   "cell_type": "code",
   "execution_count": 3,
   "id": "bb25cb42",
   "metadata": {},
   "outputs": [
    {
     "data": {
      "text/html": [
       "<div>\n",
       "<style scoped>\n",
       "    .dataframe tbody tr th:only-of-type {\n",
       "        vertical-align: middle;\n",
       "    }\n",
       "\n",
       "    .dataframe tbody tr th {\n",
       "        vertical-align: top;\n",
       "    }\n",
       "\n",
       "    .dataframe thead th {\n",
       "        text-align: right;\n",
       "    }\n",
       "</style>\n",
       "<table border=\"1\" class=\"dataframe\">\n",
       "  <thead>\n",
       "    <tr style=\"text-align: right;\">\n",
       "      <th></th>\n",
       "      <th>sequence</th>\n",
       "      <th>state</th>\n",
       "    </tr>\n",
       "  </thead>\n",
       "  <tbody>\n",
       "    <tr>\n",
       "      <th>0</th>\n",
       "      <td>0</td>\n",
       "      <td>0</td>\n",
       "    </tr>\n",
       "    <tr>\n",
       "      <th>1</th>\n",
       "      <td>1</td>\n",
       "      <td>1</td>\n",
       "    </tr>\n",
       "    <tr>\n",
       "      <th>2</th>\n",
       "      <td>2</td>\n",
       "      <td>1</td>\n",
       "    </tr>\n",
       "    <tr>\n",
       "      <th>3</th>\n",
       "      <td>3</td>\n",
       "      <td>1</td>\n",
       "    </tr>\n",
       "    <tr>\n",
       "      <th>4</th>\n",
       "      <td>4</td>\n",
       "      <td>1</td>\n",
       "    </tr>\n",
       "    <tr>\n",
       "      <th>...</th>\n",
       "      <td>...</td>\n",
       "      <td>...</td>\n",
       "    </tr>\n",
       "    <tr>\n",
       "      <th>25963</th>\n",
       "      <td>25963</td>\n",
       "      <td>1</td>\n",
       "    </tr>\n",
       "    <tr>\n",
       "      <th>25964</th>\n",
       "      <td>25964</td>\n",
       "      <td>0</td>\n",
       "    </tr>\n",
       "    <tr>\n",
       "      <th>25965</th>\n",
       "      <td>25965</td>\n",
       "      <td>1</td>\n",
       "    </tr>\n",
       "    <tr>\n",
       "      <th>25966</th>\n",
       "      <td>25966</td>\n",
       "      <td>1</td>\n",
       "    </tr>\n",
       "    <tr>\n",
       "      <th>25967</th>\n",
       "      <td>25967</td>\n",
       "      <td>0</td>\n",
       "    </tr>\n",
       "  </tbody>\n",
       "</table>\n",
       "<p>25968 rows × 2 columns</p>\n",
       "</div>"
      ],
      "text/plain": [
       "       sequence  state\n",
       "0             0      0\n",
       "1             1      1\n",
       "2             2      1\n",
       "3             3      1\n",
       "4             4      1\n",
       "...         ...    ...\n",
       "25963     25963      1\n",
       "25964     25964      0\n",
       "25965     25965      1\n",
       "25966     25966      1\n",
       "25967     25967      0\n",
       "\n",
       "[25968 rows x 2 columns]"
      ]
     },
     "execution_count": 3,
     "metadata": {},
     "output_type": "execute_result"
    }
   ],
   "source": [
    "df_labels = pd.read_csv(\"https://raw.githubusercontent.com/EdwinTran/CS4662-Project/main/train_labels.csv\")\n",
    "df_labels"
   ]
  },
  {
   "cell_type": "code",
   "execution_count": 4,
   "id": "53ba6acd",
   "metadata": {},
   "outputs": [
    {
     "data": {
      "text/html": [
       "<div>\n",
       "<style scoped>\n",
       "    .dataframe tbody tr th:only-of-type {\n",
       "        vertical-align: middle;\n",
       "    }\n",
       "\n",
       "    .dataframe tbody tr th {\n",
       "        vertical-align: top;\n",
       "    }\n",
       "\n",
       "    .dataframe thead th {\n",
       "        text-align: right;\n",
       "    }\n",
       "</style>\n",
       "<table border=\"1\" class=\"dataframe\">\n",
       "  <thead>\n",
       "    <tr style=\"text-align: right;\">\n",
       "      <th></th>\n",
       "      <th>sequence</th>\n",
       "      <th>subject</th>\n",
       "      <th>step</th>\n",
       "      <th>sensor_00</th>\n",
       "      <th>sensor_01</th>\n",
       "      <th>sensor_02</th>\n",
       "      <th>sensor_03</th>\n",
       "      <th>sensor_04</th>\n",
       "      <th>sensor_05</th>\n",
       "      <th>sensor_06</th>\n",
       "      <th>sensor_07</th>\n",
       "      <th>sensor_08</th>\n",
       "      <th>sensor_09</th>\n",
       "      <th>sensor_10</th>\n",
       "      <th>sensor_11</th>\n",
       "      <th>sensor_12</th>\n",
       "      <th>state</th>\n",
       "    </tr>\n",
       "  </thead>\n",
       "  <tbody>\n",
       "    <tr>\n",
       "      <th>0</th>\n",
       "      <td>0</td>\n",
       "      <td>47</td>\n",
       "      <td>0</td>\n",
       "      <td>-0.196291</td>\n",
       "      <td>0.112395</td>\n",
       "      <td>1.000000</td>\n",
       "      <td>0.329204</td>\n",
       "      <td>-1.004660</td>\n",
       "      <td>-0.131638</td>\n",
       "      <td>-0.127505</td>\n",
       "      <td>0.368702</td>\n",
       "      <td>-0.1</td>\n",
       "      <td>-0.963873</td>\n",
       "      <td>-0.985069</td>\n",
       "      <td>0.531893</td>\n",
       "      <td>4.751492</td>\n",
       "      <td>0</td>\n",
       "    </tr>\n",
       "    <tr>\n",
       "      <th>1</th>\n",
       "      <td>0</td>\n",
       "      <td>47</td>\n",
       "      <td>1</td>\n",
       "      <td>-0.447450</td>\n",
       "      <td>0.134454</td>\n",
       "      <td>1.000000</td>\n",
       "      <td>-0.658407</td>\n",
       "      <td>0.162495</td>\n",
       "      <td>0.340314</td>\n",
       "      <td>-0.209472</td>\n",
       "      <td>-0.867176</td>\n",
       "      <td>0.2</td>\n",
       "      <td>-0.301301</td>\n",
       "      <td>0.082733</td>\n",
       "      <td>-0.231481</td>\n",
       "      <td>0.454390</td>\n",
       "      <td>0</td>\n",
       "    </tr>\n",
       "    <tr>\n",
       "      <th>2</th>\n",
       "      <td>0</td>\n",
       "      <td>47</td>\n",
       "      <td>2</td>\n",
       "      <td>0.326893</td>\n",
       "      <td>-0.694328</td>\n",
       "      <td>1.000000</td>\n",
       "      <td>0.330088</td>\n",
       "      <td>0.473678</td>\n",
       "      <td>1.280479</td>\n",
       "      <td>-0.094718</td>\n",
       "      <td>0.535878</td>\n",
       "      <td>1.4</td>\n",
       "      <td>1.002168</td>\n",
       "      <td>0.449221</td>\n",
       "      <td>-0.586420</td>\n",
       "      <td>-4.736147</td>\n",
       "      <td>0</td>\n",
       "    </tr>\n",
       "    <tr>\n",
       "      <th>3</th>\n",
       "      <td>0</td>\n",
       "      <td>47</td>\n",
       "      <td>3</td>\n",
       "      <td>0.523184</td>\n",
       "      <td>0.751050</td>\n",
       "      <td>1.000000</td>\n",
       "      <td>0.976991</td>\n",
       "      <td>-0.563287</td>\n",
       "      <td>-0.720269</td>\n",
       "      <td>0.793260</td>\n",
       "      <td>0.951145</td>\n",
       "      <td>-0.3</td>\n",
       "      <td>-0.995665</td>\n",
       "      <td>-0.434290</td>\n",
       "      <td>1.344650</td>\n",
       "      <td>0.429241</td>\n",
       "      <td>0</td>\n",
       "    </tr>\n",
       "    <tr>\n",
       "      <th>4</th>\n",
       "      <td>0</td>\n",
       "      <td>47</td>\n",
       "      <td>4</td>\n",
       "      <td>0.272025</td>\n",
       "      <td>1.074580</td>\n",
       "      <td>1.000000</td>\n",
       "      <td>-0.136283</td>\n",
       "      <td>0.398579</td>\n",
       "      <td>0.044877</td>\n",
       "      <td>0.560109</td>\n",
       "      <td>-0.541985</td>\n",
       "      <td>-0.9</td>\n",
       "      <td>1.055636</td>\n",
       "      <td>0.812631</td>\n",
       "      <td>0.123457</td>\n",
       "      <td>-0.223359</td>\n",
       "      <td>0</td>\n",
       "    </tr>\n",
       "    <tr>\n",
       "      <th>...</th>\n",
       "      <td>...</td>\n",
       "      <td>...</td>\n",
       "      <td>...</td>\n",
       "      <td>...</td>\n",
       "      <td>...</td>\n",
       "      <td>...</td>\n",
       "      <td>...</td>\n",
       "      <td>...</td>\n",
       "      <td>...</td>\n",
       "      <td>...</td>\n",
       "      <td>...</td>\n",
       "      <td>...</td>\n",
       "      <td>...</td>\n",
       "      <td>...</td>\n",
       "      <td>...</td>\n",
       "      <td>...</td>\n",
       "      <td>...</td>\n",
       "    </tr>\n",
       "    <tr>\n",
       "      <th>99995</th>\n",
       "      <td>1666</td>\n",
       "      <td>23</td>\n",
       "      <td>35</td>\n",
       "      <td>0.007728</td>\n",
       "      <td>0.445378</td>\n",
       "      <td>-0.666153</td>\n",
       "      <td>0.158407</td>\n",
       "      <td>-1.735990</td>\n",
       "      <td>-1.660434</td>\n",
       "      <td>0.163934</td>\n",
       "      <td>0.057252</td>\n",
       "      <td>-0.3</td>\n",
       "      <td>0.279624</td>\n",
       "      <td>-4.449221</td>\n",
       "      <td>0.177984</td>\n",
       "      <td>-0.037937</td>\n",
       "      <td>0</td>\n",
       "    </tr>\n",
       "    <tr>\n",
       "      <th>99996</th>\n",
       "      <td>1666</td>\n",
       "      <td>23</td>\n",
       "      <td>36</td>\n",
       "      <td>0.344668</td>\n",
       "      <td>0.263655</td>\n",
       "      <td>-0.846153</td>\n",
       "      <td>0.186726</td>\n",
       "      <td>-0.591884</td>\n",
       "      <td>2.114435</td>\n",
       "      <td>0.289617</td>\n",
       "      <td>0.093130</td>\n",
       "      <td>-1.4</td>\n",
       "      <td>0.295520</td>\n",
       "      <td>-0.984081</td>\n",
       "      <td>0.240741</td>\n",
       "      <td>-0.321398</td>\n",
       "      <td>0</td>\n",
       "    </tr>\n",
       "    <tr>\n",
       "      <th>99997</th>\n",
       "      <td>1666</td>\n",
       "      <td>23</td>\n",
       "      <td>37</td>\n",
       "      <td>-0.823029</td>\n",
       "      <td>0.276261</td>\n",
       "      <td>-0.999486</td>\n",
       "      <td>-0.342478</td>\n",
       "      <td>0.666204</td>\n",
       "      <td>0.095737</td>\n",
       "      <td>-0.579235</td>\n",
       "      <td>-0.605344</td>\n",
       "      <td>1.2</td>\n",
       "      <td>-0.476879</td>\n",
       "      <td>1.201545</td>\n",
       "      <td>0.398148</td>\n",
       "      <td>-0.008525</td>\n",
       "      <td>0</td>\n",
       "    </tr>\n",
       "    <tr>\n",
       "      <th>99998</th>\n",
       "      <td>1666</td>\n",
       "      <td>23</td>\n",
       "      <td>38</td>\n",
       "      <td>0.804482</td>\n",
       "      <td>-1.215336</td>\n",
       "      <td>-0.999486</td>\n",
       "      <td>1.169912</td>\n",
       "      <td>0.925648</td>\n",
       "      <td>0.618549</td>\n",
       "      <td>0.232240</td>\n",
       "      <td>1.480916</td>\n",
       "      <td>-2.2</td>\n",
       "      <td>-0.086705</td>\n",
       "      <td>1.671886</td>\n",
       "      <td>0.023663</td>\n",
       "      <td>-0.063939</td>\n",
       "      <td>0</td>\n",
       "    </tr>\n",
       "    <tr>\n",
       "      <th>99999</th>\n",
       "      <td>1666</td>\n",
       "      <td>23</td>\n",
       "      <td>39</td>\n",
       "      <td>0.221020</td>\n",
       "      <td>1.496849</td>\n",
       "      <td>-0.999486</td>\n",
       "      <td>-0.725664</td>\n",
       "      <td>0.356517</td>\n",
       "      <td>0.453254</td>\n",
       "      <td>0.754098</td>\n",
       "      <td>-0.754198</td>\n",
       "      <td>0.9</td>\n",
       "      <td>-0.437861</td>\n",
       "      <td>0.927202</td>\n",
       "      <td>-0.338477</td>\n",
       "      <td>0.121057</td>\n",
       "      <td>0</td>\n",
       "    </tr>\n",
       "  </tbody>\n",
       "</table>\n",
       "<p>100000 rows × 17 columns</p>\n",
       "</div>"
      ],
      "text/plain": [
       "       sequence  subject  step  sensor_00  sensor_01  sensor_02  sensor_03  \\\n",
       "0             0       47     0  -0.196291   0.112395   1.000000   0.329204   \n",
       "1             0       47     1  -0.447450   0.134454   1.000000  -0.658407   \n",
       "2             0       47     2   0.326893  -0.694328   1.000000   0.330088   \n",
       "3             0       47     3   0.523184   0.751050   1.000000   0.976991   \n",
       "4             0       47     4   0.272025   1.074580   1.000000  -0.136283   \n",
       "...         ...      ...   ...        ...        ...        ...        ...   \n",
       "99995      1666       23    35   0.007728   0.445378  -0.666153   0.158407   \n",
       "99996      1666       23    36   0.344668   0.263655  -0.846153   0.186726   \n",
       "99997      1666       23    37  -0.823029   0.276261  -0.999486  -0.342478   \n",
       "99998      1666       23    38   0.804482  -1.215336  -0.999486   1.169912   \n",
       "99999      1666       23    39   0.221020   1.496849  -0.999486  -0.725664   \n",
       "\n",
       "       sensor_04  sensor_05  sensor_06  sensor_07  sensor_08  sensor_09  \\\n",
       "0      -1.004660  -0.131638  -0.127505   0.368702       -0.1  -0.963873   \n",
       "1       0.162495   0.340314  -0.209472  -0.867176        0.2  -0.301301   \n",
       "2       0.473678   1.280479  -0.094718   0.535878        1.4   1.002168   \n",
       "3      -0.563287  -0.720269   0.793260   0.951145       -0.3  -0.995665   \n",
       "4       0.398579   0.044877   0.560109  -0.541985       -0.9   1.055636   \n",
       "...          ...        ...        ...        ...        ...        ...   \n",
       "99995  -1.735990  -1.660434   0.163934   0.057252       -0.3   0.279624   \n",
       "99996  -0.591884   2.114435   0.289617   0.093130       -1.4   0.295520   \n",
       "99997   0.666204   0.095737  -0.579235  -0.605344        1.2  -0.476879   \n",
       "99998   0.925648   0.618549   0.232240   1.480916       -2.2  -0.086705   \n",
       "99999   0.356517   0.453254   0.754098  -0.754198        0.9  -0.437861   \n",
       "\n",
       "       sensor_10  sensor_11  sensor_12  state  \n",
       "0      -0.985069   0.531893   4.751492      0  \n",
       "1       0.082733  -0.231481   0.454390      0  \n",
       "2       0.449221  -0.586420  -4.736147      0  \n",
       "3      -0.434290   1.344650   0.429241      0  \n",
       "4       0.812631   0.123457  -0.223359      0  \n",
       "...          ...        ...        ...    ...  \n",
       "99995  -4.449221   0.177984  -0.037937      0  \n",
       "99996  -0.984081   0.240741  -0.321398      0  \n",
       "99997   1.201545   0.398148  -0.008525      0  \n",
       "99998   1.671886   0.023663  -0.063939      0  \n",
       "99999   0.927202  -0.338477   0.121057      0  \n",
       "\n",
       "[100000 rows x 17 columns]"
      ]
     },
     "execution_count": 4,
     "metadata": {},
     "output_type": "execute_result"
    }
   ],
   "source": [
    "df = df.merge(df_labels,how='left')\n",
    "df"
   ]
  },
  {
   "cell_type": "code",
   "execution_count": 5,
   "id": "f59120b2",
   "metadata": {},
   "outputs": [],
   "source": [
    "from sklearn.model_selection import train_test_split\n",
    "feature_cols =['sequence','subject','step','sensor_00','sensor_01',\n",
    "               'sensor_02','sensor_03','sensor_04','sensor_05',\n",
    "               'sensor_06','sensor_07','sensor_08','sensor_09',\n",
    "               'sensor_10','sensor_11','sensor_12']\n",
    "X = df[feature_cols]\n",
    "y = df['state']\n",
    "X_train, X_test, y_train, y_test = train_test_split(X, y, test_size=0.3, random_state=2)"
   ]
  },
  {
   "cell_type": "markdown",
   "id": "1abef04b",
   "metadata": {},
   "source": [
    "Below are our base prediction models with basic X/y test and trains. We will now do PCA X Values\n"
   ]
  },
  {
   "cell_type": "code",
   "execution_count": 6,
   "id": "4c0c4da2",
   "metadata": {},
   "outputs": [
    {
     "name": "stdout",
     "output_type": "stream",
     "text": [
      "Accuracy Score: 0.9605\n"
     ]
    }
   ],
   "source": [
    "from sklearn.tree import DecisionTreeClassifier\n",
    "from sklearn.metrics import accuracy_score\n",
    "\n",
    "my_DecisionTree = DecisionTreeClassifier(random_state=2)\n",
    "my_DecisionTree.fit(X_train,y_train)\n",
    "y_predict_DecisionTree = my_DecisionTree.predict(X_test)\n",
    "acc_score_DecisionTree = accuracy_score(y_test,y_predict_DecisionTree)\n",
    "print('Accuracy Score:',acc_score_DecisionTree)"
   ]
  },
  {
   "cell_type": "code",
   "execution_count": 7,
   "id": "3b2a9bd5",
   "metadata": {},
   "outputs": [
    {
     "name": "stdout",
     "output_type": "stream",
     "text": [
      "AUC:  0.960487115596845\n"
     ]
    }
   ],
   "source": [
    "from sklearn import metrics\n",
    "y_predict_prob_DecisionTree = my_DecisionTree.predict_proba(X_test)\n",
    "fpr, tpr, thresholds = metrics.roc_curve(y_test, y_predict_prob_DecisionTree[:,1], pos_label=1)\n",
    "AUC_Tree = metrics.auc(fpr, tpr)\n",
    "print('AUC: ',AUC_Tree)\n"
   ]
  },
  {
   "cell_type": "code",
   "execution_count": 8,
   "id": "c1418a9d",
   "metadata": {},
   "outputs": [
    {
     "name": "stdout",
     "output_type": "stream",
     "text": [
      "Accuracy Score: 0.9893\n"
     ]
    }
   ],
   "source": [
    "from sklearn.utils import resample\n",
    "Bag=[]\n",
    "\n",
    "\n",
    "for i in range(29):\n",
    "    bootstrap_size = int(.8*(len(X_train)))\n",
    "    \n",
    "    X_train_i, y_train_i = resample(X_train, y_train, n_samples = bootstrap_size , random_state=i , replace = True)\n",
    "    Base_DecisionTree = DecisionTreeClassifier(random_state=2)\n",
    "    Base_DecisionTree.fit(X_train_i, y_train_i)\n",
    "    y_predict_dt = Base_DecisionTree.predict(X_test)\n",
    "    Bag.append(y_predict_dt)\n",
    "\n",
    "predictions = []\n",
    "for i in range(len(Bag[0])):\n",
    "        num = 0\n",
    "        \n",
    "        for x in range(len(Bag)):\n",
    "            if Bag[x][i] ==1:\n",
    "                num +=1\n",
    "            else:\n",
    "                num -=1\n",
    "                \n",
    "        if num > 0:\n",
    "            predictions.append(1)\n",
    "        else:\n",
    "            predictions.append(0)\n",
    "            \n",
    "score_dt = accuracy_score(y_test,predictions)\n",
    "print('Accuracy Score:',score_dt)"
   ]
  },
  {
   "cell_type": "code",
   "execution_count": 9,
   "id": "761a71f1",
   "metadata": {},
   "outputs": [
    {
     "name": "stdout",
     "output_type": "stream",
     "text": [
      "AUC: 0.9892578192625974\n"
     ]
    }
   ],
   "source": [
    "y_predict_prob_bag = Base_DecisionTree.predict_proba(X_test)\n",
    "fpr1, tpr1, thresholds = metrics.roc_curve(y_test, predictions, pos_label=1)\n",
    "AUC_Bag = metrics.auc(fpr1, tpr1)\n",
    "print('AUC:',AUC_Bag)"
   ]
  },
  {
   "cell_type": "code",
   "execution_count": 10,
   "id": "2b0ecba3",
   "metadata": {},
   "outputs": [
    {
     "name": "stdout",
     "output_type": "stream",
     "text": [
      "Accuracy Score: 0.6113666666666666\n"
     ]
    }
   ],
   "source": [
    "from   sklearn.ensemble   import     AdaBoostClassifier\n",
    "\n",
    "my_AdaBoost = AdaBoostClassifier(n_estimators = 29,random_state=2)\n",
    "my_AdaBoost.fit(X_train,y_train)\n",
    "y_predict_AdaBoost = my_AdaBoost.predict(X_test)\n",
    "acc_score_AdaBoost = accuracy_score(y_test,y_predict_AdaBoost)\n",
    "print('Accuracy Score:',acc_score_AdaBoost)"
   ]
  },
  {
   "cell_type": "code",
   "execution_count": 11,
   "id": "7e04c408",
   "metadata": {},
   "outputs": [
    {
     "name": "stdout",
     "output_type": "stream",
     "text": [
      "AUC: 0.652968243098976\n"
     ]
    }
   ],
   "source": [
    "y_predict_prob_AdaBoost = my_AdaBoost.predict_proba(X_test)\n",
    "fpr2, tpr2, thresholds = metrics.roc_curve(y_test, y_predict_prob_AdaBoost[:,1], pos_label=1)\n",
    "AUC_Boost = metrics.auc(fpr2, tpr2)\n",
    "print('AUC:',AUC_Boost)"
   ]
  },
  {
   "cell_type": "code",
   "execution_count": 12,
   "id": "8baa4c83",
   "metadata": {},
   "outputs": [
    {
     "name": "stdout",
     "output_type": "stream",
     "text": [
      "[18:28:38] WARNING: D:\\bld\\xgboost-split_1645118015404\\work\\src\\learner.cc:1115: Starting in XGBoost 1.3.0, the default evaluation metric used with the objective 'binary:logistic' was changed from 'error' to 'logloss'. Explicitly set eval_metric if you'd like to restore the old behavior.\n"
     ]
    },
    {
     "name": "stderr",
     "output_type": "stream",
     "text": [
      "D:\\Anaconda3CS4661\\lib\\site-packages\\xgboost\\sklearn.py:1224: UserWarning: The use of label encoder in XGBClassifier is deprecated and will be removed in a future release. To remove this warning, do the following: 1) Pass option use_label_encoder=False when constructing XGBClassifier object; and 2) Encode your labels (y) as integers starting with 0, i.e. 0, 1, 2, ..., [num_class - 1].\n",
      "  warnings.warn(label_encoder_deprecation_msg, UserWarning)\n"
     ]
    },
    {
     "name": "stdout",
     "output_type": "stream",
     "text": [
      "Accuracy Score: 0.8311\n"
     ]
    }
   ],
   "source": [
    "from   xgboost   import   XGBClassifier\n",
    "\n",
    "my_XGBoost = XGBClassifier(n_estimators = 29,random_state=2)\n",
    "my_XGBoost.fit(X_train,y_train)\n",
    "y_predict_XGBoost = my_XGBoost.predict(X_test)\n",
    "acc_score_XGBoost = accuracy_score(y_test,y_predict_XGBoost)\n",
    "print('Accuracy Score:',acc_score_XGBoost)"
   ]
  },
  {
   "cell_type": "code",
   "execution_count": 13,
   "id": "9049b34c",
   "metadata": {},
   "outputs": [
    {
     "name": "stdout",
     "output_type": "stream",
     "text": [
      "AUC: 0.9206001131493933\n"
     ]
    }
   ],
   "source": [
    "y_predict_prob_XGBoost = my_XGBoost.predict_proba(X_test)\n",
    "fpr3, tpr3, thresholds = metrics.roc_curve(y_test, y_predict_prob_XGBoost[:,1], pos_label=1)\n",
    "AUC_XGBoost = metrics.auc(fpr3, tpr3)\n",
    "print('AUC:',AUC_XGBoost)"
   ]
  },
  {
   "cell_type": "code",
   "execution_count": 14,
   "id": "1d3fe305",
   "metadata": {},
   "outputs": [
    {
     "name": "stdout",
     "output_type": "stream",
     "text": [
      "Accuracy: 0.8612333333333333\n"
     ]
    }
   ],
   "source": [
    "from   sklearn.ensemble    import    RandomForestClassifier\n",
    "\n",
    "my_RandomForest = RandomForestClassifier(n_estimators = 29, bootstrap = True, random_state=2)\n",
    "\n",
    "my_RandomForest.fit(X_train,y_train)\n",
    "y_predict_RandomForest = my_RandomForest.predict(X_test)\n",
    "acc_score_RandomForest = accuracy_score(y_test,y_predict_RandomForest)\n",
    "print('Accuracy:',acc_score_RandomForest)"
   ]
  },
  {
   "cell_type": "code",
   "execution_count": 15,
   "id": "7816e604",
   "metadata": {},
   "outputs": [
    {
     "name": "stdout",
     "output_type": "stream",
     "text": [
      "AUC: 0.9382019786364484\n"
     ]
    }
   ],
   "source": [
    "y_predict_prob_Forest = my_RandomForest.predict_proba(X_test)\n",
    "fpr4, tpr4, thresholds = metrics.roc_curve(y_test, y_predict_prob_Forest[:,1], pos_label=1)\n",
    "AUC_Forest = metrics.auc(fpr4, tpr4)\n",
    "print('AUC:',AUC_Forest)"
   ]
  },
  {
   "cell_type": "code",
   "execution_count": 16,
   "id": "c2535d58",
   "metadata": {},
   "outputs": [
    {
     "name": "stdout",
     "output_type": "stream",
     "text": [
      "Accuracy:  0.5587333333333333\n"
     ]
    }
   ],
   "source": [
    "from sklearn.svm import LinearSVC\n",
    "svc_linear = LinearSVC(C=1, dual=False)\n",
    "svc_linear.fit(X_train, y_train)\n",
    "y_predict_svm_linear = svc_linear.predict(X_test)\n",
    "\n",
    "accuracy_svm_linear = accuracy_score(y_test, y_predict_svm_linear)\n",
    "print(\"Accuracy: \", accuracy_svm_linear)"
   ]
  },
  {
   "cell_type": "code",
   "execution_count": 17,
   "id": "0dc21fe3",
   "metadata": {},
   "outputs": [
    {
     "name": "stdout",
     "output_type": "stream",
     "text": [
      "Accuracy:  0.5395333333333333\n"
     ]
    }
   ],
   "source": [
    "from sklearn.svm import SVC\n",
    "\n",
    "svc_rbf = SVC(C=1, kernel='rbf', probability=True)\n",
    "\n",
    "svc_rbf.fit(X_train, y_train)\n",
    "\n",
    "y_predict_svc_rbf = svc_rbf.predict(X_test)\n",
    "accuracy_svc_rbf = accuracy_score(y_test, y_predict_svc_rbf)\n",
    "print(\"Accuracy: \", accuracy_svc_rbf)"
   ]
  },
  {
   "cell_type": "code",
   "execution_count": 18,
   "id": "129bc85b",
   "metadata": {},
   "outputs": [
    {
     "name": "stdout",
     "output_type": "stream",
     "text": [
      "AUC: 0.5533453472561267\n"
     ]
    }
   ],
   "source": [
    "y_predict_prob_svc_rbf = svc_rbf.predict_proba(X_test)\n",
    "fpr5, tpr5, thresholds = metrics.roc_curve(y_test, y_predict_prob_svc_rbf[:,1], pos_label=1)\n",
    "AUC_SVC_rbf = metrics.auc(fpr5, tpr5)\n",
    "print('AUC:',AUC_SVC_rbf)"
   ]
  },
  {
   "cell_type": "code",
   "execution_count": 20,
   "id": "bc7f96ca",
   "metadata": {
    "scrolled": true
   },
   "outputs": [
    {
     "name": "stdout",
     "output_type": "stream",
     "text": [
      "Iteration 1, loss = 0.69399743\n",
      "Iteration 2, loss = 0.69326954\n",
      "Iteration 3, loss = 0.69381272\n",
      "Iteration 4, loss = 0.69414249\n",
      "Iteration 5, loss = 0.69334462\n",
      "Iteration 6, loss = 0.69552567\n",
      "Iteration 7, loss = 0.69424522\n",
      "Iteration 8, loss = 0.69588846\n",
      "Iteration 9, loss = 0.69403665\n",
      "Iteration 10, loss = 0.69382321\n",
      "Iteration 11, loss = 0.69367951\n",
      "Iteration 12, loss = 0.69382876\n",
      "Iteration 13, loss = 0.69398211\n",
      "Training loss did not improve more than tol=0.000100 for 10 consecutive epochs. Stopping.\n",
      "Iteration 1, loss = 0.69826275\n",
      "Iteration 2, loss = 0.69525791\n",
      "Iteration 3, loss = 0.69416794\n",
      "Iteration 4, loss = 0.69513872\n",
      "Iteration 5, loss = 0.69502075\n",
      "Iteration 6, loss = 0.69668595\n",
      "Iteration 7, loss = 0.69570994\n",
      "Iteration 8, loss = 0.69454657\n",
      "Iteration 9, loss = 0.69479415\n",
      "Iteration 10, loss = 0.69420130\n",
      "Iteration 11, loss = 0.69456800\n",
      "Iteration 12, loss = 0.69419098\n",
      "Iteration 13, loss = 0.69488775\n",
      "Iteration 14, loss = 0.69502760\n",
      "Training loss did not improve more than tol=0.000100 for 10 consecutive epochs. Stopping.\n",
      "Iteration 1, loss = 0.69432806\n",
      "Iteration 2, loss = 0.69380803\n",
      "Iteration 3, loss = 0.69343984\n",
      "Iteration 4, loss = 0.69354081\n",
      "Iteration 5, loss = 0.69372832\n",
      "Iteration 6, loss = 0.69404348\n",
      "Iteration 7, loss = 0.69514883\n",
      "Iteration 8, loss = 0.69467665\n",
      "Iteration 9, loss = 0.69461989\n",
      "Iteration 10, loss = 0.69457973\n",
      "Iteration 11, loss = 0.69437361\n",
      "Iteration 12, loss = 0.69393082\n",
      "Iteration 13, loss = 0.69431026\n",
      "Iteration 14, loss = 0.69457667\n",
      "Training loss did not improve more than tol=0.000100 for 10 consecutive epochs. Stopping.\n",
      "Iteration 1, loss = 0.69398196\n",
      "Iteration 2, loss = 0.69375523\n",
      "Iteration 3, loss = 0.69351136\n",
      "Iteration 4, loss = 0.69362587\n",
      "Iteration 5, loss = 0.69352890\n",
      "Iteration 6, loss = 0.69398804\n",
      "Iteration 7, loss = 0.69354383\n",
      "Iteration 8, loss = 0.69348545\n",
      "Iteration 9, loss = 0.69365960\n",
      "Iteration 10, loss = 0.69353414\n",
      "Iteration 11, loss = 0.69359814\n",
      "Iteration 12, loss = 0.69352231\n",
      "Iteration 13, loss = 0.69377647\n",
      "Iteration 14, loss = 0.69368699\n",
      "Training loss did not improve more than tol=0.000100 for 10 consecutive epochs. Stopping.\n",
      "Iteration 1, loss = 0.69402592\n",
      "Iteration 2, loss = 0.69367117\n",
      "Iteration 3, loss = 0.69394053\n",
      "Iteration 4, loss = 0.69346449\n",
      "Iteration 5, loss = 0.69331739\n",
      "Iteration 6, loss = 0.69367898\n",
      "Iteration 7, loss = 0.69346715\n",
      "Iteration 8, loss = 0.69332552\n",
      "Iteration 9, loss = 0.69377148\n",
      "Iteration 10, loss = 0.69364288\n",
      "Iteration 11, loss = 0.69351421\n",
      "Iteration 12, loss = 0.69428710\n",
      "Iteration 13, loss = 0.69351914\n",
      "Iteration 14, loss = 0.69356208\n",
      "Iteration 15, loss = 0.69352374\n",
      "Iteration 16, loss = 0.69348777\n",
      "Training loss did not improve more than tol=0.000100 for 10 consecutive epochs. Stopping.\n",
      "Iteration 1, loss = 0.69417416\n",
      "Iteration 2, loss = 0.69363429\n",
      "Iteration 3, loss = 0.69377675\n",
      "Iteration 4, loss = 0.69355813\n",
      "Iteration 5, loss = 0.69339388\n",
      "Iteration 6, loss = 0.69410960\n",
      "Iteration 7, loss = 0.69479061\n",
      "Iteration 8, loss = 0.69402209\n",
      "Iteration 9, loss = 0.69428277\n",
      "Iteration 10, loss = 0.69455164\n",
      "Iteration 11, loss = 0.69382930\n",
      "Iteration 12, loss = 0.69367119\n",
      "Iteration 13, loss = 0.69411308\n",
      "Iteration 14, loss = 0.69355565\n",
      "Iteration 15, loss = 0.69352509\n",
      "Iteration 16, loss = 0.69391974\n",
      "Training loss did not improve more than tol=0.000100 for 10 consecutive epochs. Stopping.\n",
      "Iteration 1, loss = 0.69410589\n",
      "Iteration 2, loss = 0.69349924\n",
      "Iteration 3, loss = 0.69358927\n",
      "Iteration 4, loss = 0.69360081\n",
      "Iteration 5, loss = 0.69364752\n",
      "Iteration 6, loss = 0.69386522\n",
      "Iteration 7, loss = 0.69331837\n",
      "Iteration 8, loss = 0.69319842\n",
      "Iteration 9, loss = 0.69346091\n",
      "Iteration 10, loss = 0.69393834\n",
      "Iteration 11, loss = 0.69370722\n",
      "Iteration 12, loss = 0.69367832\n",
      "Iteration 13, loss = 0.69383196\n",
      "Iteration 14, loss = 0.69335217\n",
      "Iteration 15, loss = 0.69346997\n",
      "Iteration 16, loss = 0.69348762\n",
      "Iteration 17, loss = 0.69358302\n",
      "Iteration 18, loss = 0.69383461\n",
      "Iteration 19, loss = 0.69345166\n",
      "Training loss did not improve more than tol=0.000100 for 10 consecutive epochs. Stopping.\n",
      "Iteration 1, loss = 0.69386713\n",
      "Iteration 2, loss = 0.69359666\n",
      "Iteration 3, loss = 0.69363918\n",
      "Iteration 4, loss = 0.69393352\n",
      "Iteration 5, loss = 0.69375610\n",
      "Iteration 6, loss = 0.69386410\n",
      "Iteration 7, loss = 0.69350235\n",
      "Iteration 8, loss = 0.69334245\n",
      "Iteration 9, loss = 0.69356755\n",
      "Iteration 10, loss = 0.69388980\n",
      "Iteration 11, loss = 0.69382625\n",
      "Iteration 12, loss = 0.69372673\n",
      "Iteration 13, loss = 0.69412864\n",
      "Iteration 14, loss = 0.69325812\n",
      "Iteration 15, loss = 0.69344003\n",
      "Iteration 16, loss = 0.69372985\n",
      "Iteration 17, loss = 0.69352617\n",
      "Iteration 18, loss = 0.69366976\n",
      "Iteration 19, loss = 0.69356470\n",
      "Training loss did not improve more than tol=0.000100 for 10 consecutive epochs. Stopping.\n",
      "Iteration 1, loss = 0.69606020\n",
      "Iteration 2, loss = 0.69437289\n",
      "Iteration 3, loss = 0.69485932\n",
      "Iteration 4, loss = 0.69489652\n",
      "Iteration 5, loss = 0.69499676\n",
      "Iteration 6, loss = 0.69591385\n",
      "Iteration 7, loss = 0.69458175\n",
      "Iteration 8, loss = 0.69418111\n",
      "Iteration 9, loss = 0.69516841\n",
      "Iteration 10, loss = 0.69511111\n",
      "Iteration 11, loss = 0.69523800\n",
      "Iteration 12, loss = 0.69477082\n",
      "Iteration 13, loss = 0.69472755\n",
      "Iteration 14, loss = 0.69435751\n",
      "Iteration 15, loss = 0.69506559\n",
      "Iteration 16, loss = 0.69457089\n",
      "Iteration 17, loss = 0.69519777\n",
      "Iteration 18, loss = 0.69453804\n",
      "Iteration 19, loss = 0.69531634\n",
      "Training loss did not improve more than tol=0.000100 for 10 consecutive epochs. Stopping.\n",
      "Iteration 1, loss = 0.69559651\n",
      "Iteration 2, loss = 0.69440436\n",
      "Iteration 3, loss = 0.69473650\n",
      "Iteration 4, loss = 0.69511442\n",
      "Iteration 5, loss = 0.69476921\n",
      "Iteration 6, loss = 0.69559006\n",
      "Iteration 7, loss = 0.69469791\n",
      "Iteration 8, loss = 0.69436984\n",
      "Iteration 9, loss = 0.69490703\n",
      "Iteration 10, loss = 0.69483879\n",
      "Iteration 11, loss = 0.69524660\n",
      "Iteration 12, loss = 0.69462631\n",
      "Iteration 13, loss = 0.69442555\n",
      "Training loss did not improve more than tol=0.000100 for 10 consecutive epochs. Stopping.\n",
      "Iteration 1, loss = 0.69472316\n",
      "Iteration 2, loss = 0.69498394\n",
      "Iteration 3, loss = 0.69502676\n",
      "Iteration 4, loss = 0.69520592\n",
      "Iteration 5, loss = 0.69496503\n",
      "Iteration 6, loss = 0.69484843\n",
      "Iteration 7, loss = 0.69529439\n",
      "Iteration 8, loss = 0.69450742\n",
      "Iteration 9, loss = 0.69490197\n",
      "Iteration 10, loss = 0.69537049\n",
      "Iteration 11, loss = 0.69491531\n",
      "Iteration 12, loss = 0.69442134\n",
      "Iteration 13, loss = 0.69451281\n",
      "Iteration 14, loss = 0.69468513\n",
      "Iteration 15, loss = 0.69464218\n",
      "Iteration 16, loss = 0.69534642\n",
      "Iteration 17, loss = 0.69501501\n",
      "Iteration 18, loss = 0.69493711\n",
      "Iteration 19, loss = 0.69429188\n",
      "Iteration 20, loss = 0.69478498\n",
      "Iteration 21, loss = 0.69417509\n",
      "Iteration 22, loss = 0.69463171\n",
      "Iteration 23, loss = 0.69542364\n",
      "Iteration 24, loss = 0.69471651\n",
      "Iteration 25, loss = 0.69424902\n",
      "Iteration 26, loss = 0.69502979\n",
      "Iteration 27, loss = 0.69515158\n",
      "Iteration 28, loss = 0.69476907\n",
      "Iteration 29, loss = 0.69517003\n",
      "Iteration 30, loss = 0.69536509\n",
      "Iteration 31, loss = 0.69541254\n",
      "Iteration 32, loss = 0.69521094\n",
      "Training loss did not improve more than tol=0.000100 for 10 consecutive epochs. Stopping.\n",
      "ANN accuracy avg.:  0.5024099999999999\n"
     ]
    }
   ],
   "source": [
    "from sklearn.neural_network import MLPClassifier\n",
    "from sklearn.model_selection import cross_val_score\n",
    "\n",
    "my_ANN = MLPClassifier(hidden_layer_sizes=(3,), activation= 'logistic', \n",
    "                       solver='adam', alpha=1e-5, random_state=1, \n",
    "                       learning_rate_init = 0.1, verbose=True, tol=0.0001)\n",
    "\n",
    "my_ANN.fit(X_train, y_train)\n",
    "\n",
    "y_predict_ann = my_ANN.predict(X_test)\n",
    "\n",
    "\n",
    "accuracy_list = cross_val_score(my_ANN, X, y, cv=10, scoring='accuracy')\n",
    "\n",
    "accuracy_ANN_cv = accuracy_list.mean()\n",
    "\n",
    "print('ANN accuracy avg.: ', accuracy_ANN_cv)"
   ]
  },
  {
   "cell_type": "code",
   "execution_count": 21,
   "id": "08adb8d7",
   "metadata": {},
   "outputs": [
    {
     "name": "stdout",
     "output_type": "stream",
     "text": [
      "ANN AUC:  0.500458935835751\n"
     ]
    }
   ],
   "source": [
    "#AUC for ANN\n",
    "y_predict_prob_ann = my_ANN.predict_proba(X_test)\n",
    "\n",
    "fpr_ANN, tpr_ANN, thresholds = metrics.roc_curve(y_test, y_predict_prob_ann[:,1], pos_label=1)\n",
    "\n",
    "AUC_ANN = metrics.auc(fpr_ANN, tpr_ANN)\n",
    "print('ANN AUC: ', AUC_ANN)"
   ]
  },
  {
   "cell_type": "markdown",
   "id": "436c4c39",
   "metadata": {},
   "source": [
    "Plotting Each AUC Score\n"
   ]
  },
  {
   "cell_type": "code",
   "execution_count": 23,
   "id": "260d3bd6",
   "metadata": {},
   "outputs": [
    {
     "data": {
      "image/png": "[encoded data removed]",
      "text/plain": [
       "<Figure size 432x288 with 1 Axes>"
      ]
     },
     "metadata": {
      "needs_background": "light"
     },
     "output_type": "display_data"
    }
   ],
   "source": [
    "import matplotlib.pyplot as plt\n",
    "%matplotlib inline\n",
    "\n",
    "plt.figure()\n",
    "\n",
    "# Roc Curve0:\n",
    "plt.plot(fpr, tpr, color='red', lw=2, \n",
    "         label='DecisionTree (area = %0.2f)' % AUC_Tree)\n",
    "\n",
    "# Roc Curve1:\n",
    "plt.plot(fpr1, tpr1, color='green', lw=2, \n",
    "         label='Base (area = %0.2f)' % AUC_Bag)\n",
    "\n",
    "# Roc Curve2:\n",
    "plt.plot(fpr3, tpr3, color='blue', lw=2, \n",
    "         label='AdaBoost (area = %0.2f)' % AUC_Boost)\n",
    "\n",
    "# Roc Curve3:\n",
    "plt.plot(fpr4, tpr4, color='orange', lw=2, \n",
    "         label='XGBoost (area = %0.2f)' % AUC_XGBoost)\n",
    "\n",
    "# Roc Curve4:\n",
    "plt.plot(fpr4, tpr4, color='violet', lw=2, \n",
    "         label='RandomForest (area = %0.2f)' % AUC_Forest)\n",
    "\n",
    "# Roc Curve5:\n",
    "plt.plot(fpr5, tpr5, color='yellow', lw=2, \n",
    "         label='SVC (area = %0.2f)' % AUC_SVC_rbf)\n",
    "\n",
    "# Roc Curve6:\n",
    "plt.plot(fpr_ANN, tpr_ANN, color='black', lw=2, \n",
    "         label='ANN (area = %0.2f)' % AUC_ANN)\n",
    "\n",
    "plt.plot([0, 1], [0, 1], color='black', lw=1, linestyle='--')\n",
    "\n",
    "plt.xlim([-0.005, 1.005])\n",
    "plt.ylim([0.0, 1.01])\n",
    "\n",
    "# Labels, Title, Legend:\n",
    "plt.xlabel('False Positive Rate')\n",
    "plt.ylabel('True Positive Rate')\n",
    "plt.title('Receiver operating characteristic')\n",
    "plt.legend(loc=\"lower right\")\n",
    "\n",
    "plt.show()"
   ]
  },
  {
   "cell_type": "markdown",
   "id": "291d7299",
   "metadata": {},
   "source": [
    "EXPLAIN HERE WHICH FEATURE IS THE BEST"
   ]
  },
  {
   "cell_type": "markdown",
   "id": "b3339e05",
   "metadata": {},
   "source": [
    "Create PCA values for our Xs\n"
   ]
  },
  {
   "cell_type": "code",
   "execution_count": 24,
   "id": "dfd79dcc",
   "metadata": {},
   "outputs": [],
   "source": [
    "from sklearn.decomposition import PCA\n",
    "k = 5\n",
    "my_pca = PCA(n_components = k)\n",
    "\n",
    "X_train_new = my_pca.fit_transform(X_train)\n",
    "\n",
    "X_test_new = my_pca.transform(X_test)\n"
   ]
  },
  {
   "cell_type": "code",
   "execution_count": 25,
   "id": "0bc9745f",
   "metadata": {},
   "outputs": [
    {
     "name": "stdout",
     "output_type": "stream",
     "text": [
      "Accuracy Score: 0.9731333333333333\n"
     ]
    }
   ],
   "source": [
    "\n",
    "my_DecisionTree_PCA = DecisionTreeClassifier(random_state=2)\n",
    "my_DecisionTree_PCA.fit(X_train_new,y_train)\n",
    "y_predict_DecisionTree_PCA = my_DecisionTree_PCA.predict(X_test_new)\n",
    "acc_score_DecisionTree_PCA = accuracy_score(y_test,y_predict_DecisionTree_PCA)\n",
    "print('Accuracy Score:',acc_score_DecisionTree_PCA)"
   ]
  },
  {
   "cell_type": "code",
   "execution_count": 26,
   "id": "21159404",
   "metadata": {},
   "outputs": [
    {
     "name": "stdout",
     "output_type": "stream",
     "text": [
      "AUC:  0.9731427035179678\n"
     ]
    }
   ],
   "source": [
    "y_predict_prob_DecisionTree_PCA = my_DecisionTree_PCA.predict_proba(X_test_new)\n",
    "fpr, tpr, thresholds = metrics.roc_curve(y_test, y_predict_prob_DecisionTree_PCA[:,1], pos_label=1)\n",
    "AUC_Tree_PCA = metrics.auc(fpr, tpr)\n",
    "print('AUC: ',AUC_Tree_PCA)"
   ]
  },
  {
   "cell_type": "code",
   "execution_count": 27,
   "id": "cafbc69f",
   "metadata": {},
   "outputs": [
    {
     "name": "stdout",
     "output_type": "stream",
     "text": [
      "Accuracy Score: 0.9954\n"
     ]
    }
   ],
   "source": [
    "\n",
    "Bag_PCA=[]\n",
    "\n",
    "\n",
    "for i in range(29):\n",
    "    bootstrap_size = int(.8*(len(X_train_new)))\n",
    "    \n",
    "    X_train_i_PCA, y_train_i = resample(X_train_new, y_train, n_samples = bootstrap_size , random_state=i , replace = True)\n",
    "    Base_DecisionTree_PCA = DecisionTreeClassifier(random_state=2)\n",
    "    Base_DecisionTree_PCA.fit(X_train_i_PCA, y_train_i)\n",
    "    y_predict_dt_PCA = Base_DecisionTree_PCA.predict(X_test_new)\n",
    "    Bag_PCA.append(y_predict_dt_PCA)\n",
    "\n",
    "predictions_PCA = []\n",
    "for i in range(len(Bag_PCA[0])):\n",
    "        num = 0\n",
    "        \n",
    "        for x in range(len(Bag_PCA)):\n",
    "            if Bag_PCA[x][i] ==1:\n",
    "                num +=1\n",
    "            else:\n",
    "                num -=1\n",
    "                \n",
    "        if num > 0:\n",
    "            predictions_PCA.append(1)\n",
    "        else:\n",
    "            predictions_PCA.append(0)\n",
    "            \n",
    "score_dt_PCA = accuracy_score(y_test,predictions_PCA)\n",
    "print('Accuracy Score:',score_dt_PCA)"
   ]
  },
  {
   "cell_type": "code",
   "execution_count": 28,
   "id": "af90cc3f",
   "metadata": {},
   "outputs": [
    {
     "name": "stdout",
     "output_type": "stream",
     "text": [
      "AUC: 0.9953949683304586\n"
     ]
    }
   ],
   "source": [
    "y_predict_prob_bag_PCA = Base_DecisionTree_PCA.predict_proba(X_test_new)\n",
    "fpr1, tpr1, thresholds = metrics.roc_curve(y_test, predictions_PCA, pos_label=1)\n",
    "AUC_Bag_PCA = metrics.auc(fpr1, tpr1)\n",
    "print('AUC:',AUC_Bag_PCA)"
   ]
  },
  {
   "cell_type": "code",
   "execution_count": 29,
   "id": "aa2aef9d",
   "metadata": {},
   "outputs": [
    {
     "name": "stdout",
     "output_type": "stream",
     "text": [
      "Accuracy Score: 0.5890333333333333\n"
     ]
    }
   ],
   "source": [
    "my_AdaBoost_PCA = AdaBoostClassifier(n_estimators = 29,random_state=2)\n",
    "my_AdaBoost_PCA.fit(X_train_new,y_train)\n",
    "y_predict_AdaBoost_PCA = my_AdaBoost_PCA.predict(X_test_new)\n",
    "acc_score_AdaBoost_PCA = accuracy_score(y_test,y_predict_AdaBoost_PCA)\n",
    "print('Accuracy Score:',acc_score_AdaBoost_PCA)"
   ]
  },
  {
   "cell_type": "code",
   "execution_count": 30,
   "id": "aa69ab42",
   "metadata": {},
   "outputs": [
    {
     "name": "stdout",
     "output_type": "stream",
     "text": [
      "AUC: 0.6250562603631381\n"
     ]
    }
   ],
   "source": [
    "y_predict_prob_AdaBoost_PCA = my_AdaBoost_PCA.predict_proba(X_test_new)\n",
    "fpr2, tpr2, thresholds = metrics.roc_curve(y_test, y_predict_prob_AdaBoost_PCA[:,1], pos_label=1)\n",
    "AUC_Boost_PCA = metrics.auc(fpr2, tpr2)\n",
    "print('AUC:',AUC_Boost_PCA)"
   ]
  },
  {
   "cell_type": "code",
   "execution_count": 31,
   "id": "6942c61f",
   "metadata": {},
   "outputs": [
    {
     "name": "stdout",
     "output_type": "stream",
     "text": [
      "[18:55:08] WARNING: D:\\bld\\xgboost-split_1645118015404\\work\\src\\learner.cc:1115: Starting in XGBoost 1.3.0, the default evaluation metric used with the objective 'binary:logistic' was changed from 'error' to 'logloss'. Explicitly set eval_metric if you'd like to restore the old behavior.\n"
     ]
    },
    {
     "name": "stderr",
     "output_type": "stream",
     "text": [
      "D:\\Anaconda3CS4661\\lib\\site-packages\\xgboost\\sklearn.py:1224: UserWarning: The use of label encoder in XGBClassifier is deprecated and will be removed in a future release. To remove this warning, do the following: 1) Pass option use_label_encoder=False when constructing XGBClassifier object; and 2) Encode your labels (y) as integers starting with 0, i.e. 0, 1, 2, ..., [num_class - 1].\n",
      "  warnings.warn(label_encoder_deprecation_msg, UserWarning)\n"
     ]
    },
    {
     "name": "stdout",
     "output_type": "stream",
     "text": [
      "Accuracy Score: 0.8305\n"
     ]
    }
   ],
   "source": [
    "my_XGBoost_PCA = XGBClassifier(n_estimators = 29,random_state=2)\n",
    "my_XGBoost_PCA.fit(X_train_new,y_train)\n",
    "y_predict_XGBoost_PCA = my_XGBoost_PCA.predict(X_test_new)\n",
    "acc_score_XGBoost_PCA = accuracy_score(y_test,y_predict_XGBoost_PCA)\n",
    "print('Accuracy Score:',acc_score_XGBoost_PCA)"
   ]
  },
  {
   "cell_type": "code",
   "execution_count": 32,
   "id": "a19978fb",
   "metadata": {},
   "outputs": [
    {
     "name": "stdout",
     "output_type": "stream",
     "text": [
      "AUC: 0.928241246376286\n"
     ]
    }
   ],
   "source": [
    "y_predict_prob_XGBoost_PCA = my_XGBoost_PCA.predict_proba(X_test_new)\n",
    "fpr3, tpr3, thresholds = metrics.roc_curve(y_test, y_predict_prob_XGBoost_PCA[:,1], pos_label=1)\n",
    "AUC_XGBoost_PCA = metrics.auc(fpr3, tpr3)\n",
    "print('AUC:',AUC_XGBoost_PCA)"
   ]
  },
  {
   "cell_type": "code",
   "execution_count": 33,
   "id": "dc85d73b",
   "metadata": {},
   "outputs": [
    {
     "name": "stdout",
     "output_type": "stream",
     "text": [
      "Accuracy: 0.9681333333333333\n"
     ]
    }
   ],
   "source": [
    "my_RandomForest_PCA = RandomForestClassifier(n_estimators = 29, bootstrap = True, random_state=2)\n",
    "\n",
    "my_RandomForest_PCA.fit(X_train_new,y_train)\n",
    "y_predict_RandomForest_PCA = my_RandomForest_PCA.predict(X_test_new)\n",
    "acc_score_RandomForest_PCA = accuracy_score(y_test,y_predict_RandomForest_PCA)\n",
    "print('Accuracy:',acc_score_RandomForest_PCA)"
   ]
  },
  {
   "cell_type": "code",
   "execution_count": 34,
   "id": "c829c8a2",
   "metadata": {},
   "outputs": [
    {
     "name": "stdout",
     "output_type": "stream",
     "text": [
      "AUC: 0.9956080835667196\n"
     ]
    }
   ],
   "source": [
    "y_predict_prob_Forest_PCA = my_RandomForest_PCA.predict_proba(X_test_new)\n",
    "fpr4, tpr4, thresholds = metrics.roc_curve(y_test, y_predict_prob_Forest_PCA[:,1], pos_label=1)\n",
    "AUC_Forest_PCA = metrics.auc(fpr4, tpr4)\n",
    "print('AUC:',AUC_Forest_PCA)"
   ]
  },
  {
   "cell_type": "code",
   "execution_count": 35,
   "id": "b968865c",
   "metadata": {},
   "outputs": [
    {
     "name": "stdout",
     "output_type": "stream",
     "text": [
      "Accuracy:  0.5200333333333333\n"
     ]
    }
   ],
   "source": [
    "from sklearn.svm import LinearSVC\n",
    "svc_linear_new = LinearSVC(C=1, dual=False)\n",
    "svc_linear_new.fit(X_train_new, y_train)\n",
    "y_predict_svm_linear_new = svc_linear_new.predict(X_test_new)\n",
    "\n",
    "accuracy_linear_new = accuracy_score(y_test, y_predict_svm_linear_new)\n",
    "print(\"Accuracy: \", accuracy_linear_new)"
   ]
  },
  {
   "cell_type": "code",
   "execution_count": 36,
   "id": "00eca8c9",
   "metadata": {},
   "outputs": [
    {
     "name": "stdout",
     "output_type": "stream",
     "text": [
      "Accuracy:  0.538\n"
     ]
    }
   ],
   "source": [
    "from sklearn.svm import SVC\n",
    "\n",
    "svc_new_pca = SVC(C=1, kernel='rbf', probability=True)\n",
    "\n",
    "svc_new_pca.fit(X_train_new, y_train)\n",
    "\n",
    "y_predict_svc_pca = svc_new_pca.predict(X_test_new)\n",
    "accuracy_svc_pca = accuracy_score(y_test, y_predict_svc_pca)\n",
    "print(\"Accuracy: \", accuracy_svc_pca)"
   ]
  },
  {
   "cell_type": "code",
   "execution_count": 37,
   "id": "aef6e84f",
   "metadata": {},
   "outputs": [
    {
     "name": "stdout",
     "output_type": "stream",
     "text": [
      "AUC: 0.5541260196286707\n"
     ]
    }
   ],
   "source": [
    "y_predict_prob_svc_pca = svc_new_pca.predict_proba(X_test_new)\n",
    "fpr5, tpr5, thresholds = metrics.roc_curve(y_test, y_predict_prob_svc_pca[:,1], pos_label=1)\n",
    "AUC_SVC_PCA = metrics.auc(fpr5, tpr5)\n",
    "print('AUC:',AUC_SVC_PCA)"
   ]
  },
  {
   "cell_type": "code",
   "execution_count": 38,
   "id": "82062ada",
   "metadata": {},
   "outputs": [
    {
     "name": "stdout",
     "output_type": "stream",
     "text": [
      "Iteration 1, loss = 0.69547209\n",
      "Iteration 2, loss = 0.69508540\n",
      "Iteration 3, loss = 0.69531368\n",
      "Iteration 4, loss = 0.69470782\n",
      "Iteration 5, loss = 0.69508735\n",
      "Iteration 6, loss = 0.69456608\n",
      "Iteration 7, loss = 0.69491171\n",
      "Iteration 8, loss = 0.69461470\n",
      "Iteration 9, loss = 0.69434603\n",
      "Iteration 10, loss = 0.69448182\n",
      "Iteration 11, loss = 0.69482781\n",
      "Iteration 12, loss = 0.69509076\n",
      "Iteration 13, loss = 0.69436874\n",
      "Iteration 14, loss = 0.69471432\n",
      "Iteration 15, loss = 0.69495094\n",
      "Iteration 16, loss = 0.69425770\n",
      "Iteration 17, loss = 0.69526248\n",
      "Iteration 18, loss = 0.69385464\n",
      "Iteration 19, loss = 0.69470913\n",
      "Iteration 20, loss = 0.69555465\n",
      "Iteration 21, loss = 0.69465408\n",
      "Iteration 22, loss = 0.69384419\n",
      "Iteration 23, loss = 0.69323189\n",
      "Iteration 24, loss = 0.69446623\n",
      "Iteration 25, loss = 0.69330884\n",
      "Iteration 26, loss = 0.69413104\n",
      "Iteration 27, loss = 0.69335912\n",
      "Iteration 28, loss = 0.69341945\n",
      "Iteration 29, loss = 0.69278633\n",
      "Iteration 30, loss = 0.69359907\n",
      "Iteration 31, loss = 0.69388613\n",
      "Iteration 32, loss = 0.69394699\n",
      "Iteration 33, loss = 0.69414844\n",
      "Iteration 34, loss = 0.69395116\n",
      "Iteration 35, loss = 0.69311223\n",
      "Iteration 36, loss = 0.69418059\n",
      "Iteration 37, loss = 0.69441513\n",
      "Iteration 38, loss = 0.69324044\n",
      "Iteration 39, loss = 0.69478334\n",
      "Iteration 40, loss = 0.69518212\n",
      "Training loss did not improve more than tol=0.000100 for 10 consecutive epochs. Stopping.\n",
      "Iteration 1, loss = 0.69826275\n",
      "Iteration 2, loss = 0.69525791\n",
      "Iteration 3, loss = 0.69416794\n",
      "Iteration 4, loss = 0.69513872\n",
      "Iteration 5, loss = 0.69502075\n",
      "Iteration 6, loss = 0.69668595\n",
      "Iteration 7, loss = 0.69570994\n",
      "Iteration 8, loss = 0.69454657\n",
      "Iteration 9, loss = 0.69479415\n",
      "Iteration 10, loss = 0.69420130\n",
      "Iteration 11, loss = 0.69456800\n",
      "Iteration 12, loss = 0.69419098\n",
      "Iteration 13, loss = 0.69488775\n",
      "Iteration 14, loss = 0.69502760\n",
      "Training loss did not improve more than tol=0.000100 for 10 consecutive epochs. Stopping.\n",
      "Iteration 1, loss = 0.69432806\n",
      "Iteration 2, loss = 0.69380803\n",
      "Iteration 3, loss = 0.69343984\n",
      "Iteration 4, loss = 0.69354081\n",
      "Iteration 5, loss = 0.69372832\n",
      "Iteration 6, loss = 0.69404348\n",
      "Iteration 7, loss = 0.69514883\n",
      "Iteration 8, loss = 0.69467665\n",
      "Iteration 9, loss = 0.69461989\n",
      "Iteration 10, loss = 0.69457973\n",
      "Iteration 11, loss = 0.69437361\n",
      "Iteration 12, loss = 0.69393082\n",
      "Iteration 13, loss = 0.69431026\n",
      "Iteration 14, loss = 0.69457667\n",
      "Training loss did not improve more than tol=0.000100 for 10 consecutive epochs. Stopping.\n",
      "Iteration 1, loss = 0.69398196\n",
      "Iteration 2, loss = 0.69375523\n",
      "Iteration 3, loss = 0.69351136\n",
      "Iteration 4, loss = 0.69362587\n",
      "Iteration 5, loss = 0.69352890\n",
      "Iteration 6, loss = 0.69398804\n",
      "Iteration 7, loss = 0.69354383\n",
      "Iteration 8, loss = 0.69348545\n",
      "Iteration 9, loss = 0.69365960\n",
      "Iteration 10, loss = 0.69353414\n",
      "Iteration 11, loss = 0.69359814\n",
      "Iteration 12, loss = 0.69352231\n",
      "Iteration 13, loss = 0.69377647\n",
      "Iteration 14, loss = 0.69368699\n",
      "Training loss did not improve more than tol=0.000100 for 10 consecutive epochs. Stopping.\n",
      "Iteration 1, loss = 0.69402592\n",
      "Iteration 2, loss = 0.69367117\n",
      "Iteration 3, loss = 0.69394053\n",
      "Iteration 4, loss = 0.69346449\n",
      "Iteration 5, loss = 0.69331739\n",
      "Iteration 6, loss = 0.69367898\n",
      "Iteration 7, loss = 0.69346715\n",
      "Iteration 8, loss = 0.69332552\n",
      "Iteration 9, loss = 0.69377148\n",
      "Iteration 10, loss = 0.69364288\n",
      "Iteration 11, loss = 0.69351421\n",
      "Iteration 12, loss = 0.69428710\n",
      "Iteration 13, loss = 0.69351914\n",
      "Iteration 14, loss = 0.69356208\n",
      "Iteration 15, loss = 0.69352374\n",
      "Iteration 16, loss = 0.69348777\n",
      "Training loss did not improve more than tol=0.000100 for 10 consecutive epochs. Stopping.\n",
      "Iteration 1, loss = 0.69417416\n",
      "Iteration 2, loss = 0.69363429\n",
      "Iteration 3, loss = 0.69377675\n",
      "Iteration 4, loss = 0.69355813\n",
      "Iteration 5, loss = 0.69339388\n",
      "Iteration 6, loss = 0.69410960\n",
      "Iteration 7, loss = 0.69479061\n",
      "Iteration 8, loss = 0.69402209\n",
      "Iteration 9, loss = 0.69428277\n",
      "Iteration 10, loss = 0.69455164\n",
      "Iteration 11, loss = 0.69382930\n",
      "Iteration 12, loss = 0.69367119\n",
      "Iteration 13, loss = 0.69411308\n",
      "Iteration 14, loss = 0.69355565\n",
      "Iteration 15, loss = 0.69352509\n",
      "Iteration 16, loss = 0.69391974\n",
      "Training loss did not improve more than tol=0.000100 for 10 consecutive epochs. Stopping.\n",
      "Iteration 1, loss = 0.69410589\n",
      "Iteration 2, loss = 0.69349924\n",
      "Iteration 3, loss = 0.69358927\n",
      "Iteration 4, loss = 0.69360081\n",
      "Iteration 5, loss = 0.69364752\n",
      "Iteration 6, loss = 0.69386522\n",
      "Iteration 7, loss = 0.69331837\n",
      "Iteration 8, loss = 0.69319842\n",
      "Iteration 9, loss = 0.69346091\n",
      "Iteration 10, loss = 0.69393834\n",
      "Iteration 11, loss = 0.69370722\n",
      "Iteration 12, loss = 0.69367832\n",
      "Iteration 13, loss = 0.69383196\n",
      "Iteration 14, loss = 0.69335217\n",
      "Iteration 15, loss = 0.69346997\n",
      "Iteration 16, loss = 0.69348762\n",
      "Iteration 17, loss = 0.69358302\n",
      "Iteration 18, loss = 0.69383461\n",
      "Iteration 19, loss = 0.69345166\n",
      "Training loss did not improve more than tol=0.000100 for 10 consecutive epochs. Stopping.\n",
      "Iteration 1, loss = 0.69386713\n",
      "Iteration 2, loss = 0.69359666\n",
      "Iteration 3, loss = 0.69363918\n",
      "Iteration 4, loss = 0.69393352\n",
      "Iteration 5, loss = 0.69375610\n",
      "Iteration 6, loss = 0.69386410\n",
      "Iteration 7, loss = 0.69350235\n",
      "Iteration 8, loss = 0.69334245\n",
      "Iteration 9, loss = 0.69356755\n",
      "Iteration 10, loss = 0.69388980\n",
      "Iteration 11, loss = 0.69382625\n",
      "Iteration 12, loss = 0.69372673\n",
      "Iteration 13, loss = 0.69412864\n",
      "Iteration 14, loss = 0.69325812\n",
      "Iteration 15, loss = 0.69344003\n",
      "Iteration 16, loss = 0.69372985\n",
      "Iteration 17, loss = 0.69352617\n",
      "Iteration 18, loss = 0.69366976\n",
      "Iteration 19, loss = 0.69356470\n",
      "Training loss did not improve more than tol=0.000100 for 10 consecutive epochs. Stopping.\n",
      "Iteration 1, loss = 0.69606020\n",
      "Iteration 2, loss = 0.69437289\n",
      "Iteration 3, loss = 0.69485932\n",
      "Iteration 4, loss = 0.69489652\n",
      "Iteration 5, loss = 0.69499676\n",
      "Iteration 6, loss = 0.69591385\n",
      "Iteration 7, loss = 0.69458175\n",
      "Iteration 8, loss = 0.69418111\n",
      "Iteration 9, loss = 0.69516841\n",
      "Iteration 10, loss = 0.69511111\n",
      "Iteration 11, loss = 0.69523800\n",
      "Iteration 12, loss = 0.69477082\n",
      "Iteration 13, loss = 0.69472755\n",
      "Iteration 14, loss = 0.69435751\n",
      "Iteration 15, loss = 0.69506559\n",
      "Iteration 16, loss = 0.69457089\n",
      "Iteration 17, loss = 0.69519777\n",
      "Iteration 18, loss = 0.69453804\n",
      "Iteration 19, loss = 0.69531634\n",
      "Training loss did not improve more than tol=0.000100 for 10 consecutive epochs. Stopping.\n",
      "Iteration 1, loss = 0.69559651\n",
      "Iteration 2, loss = 0.69440436\n",
      "Iteration 3, loss = 0.69473650\n",
      "Iteration 4, loss = 0.69511442\n",
      "Iteration 5, loss = 0.69476921\n",
      "Iteration 6, loss = 0.69559006\n",
      "Iteration 7, loss = 0.69469791\n",
      "Iteration 8, loss = 0.69436984\n",
      "Iteration 9, loss = 0.69490703\n",
      "Iteration 10, loss = 0.69483879\n",
      "Iteration 11, loss = 0.69524660\n",
      "Iteration 12, loss = 0.69462631\n",
      "Iteration 13, loss = 0.69442555\n",
      "Training loss did not improve more than tol=0.000100 for 10 consecutive epochs. Stopping.\n",
      "Iteration 1, loss = 0.69472316\n",
      "Iteration 2, loss = 0.69498394\n",
      "Iteration 3, loss = 0.69502676\n",
      "Iteration 4, loss = 0.69520592\n",
      "Iteration 5, loss = 0.69496503\n",
      "Iteration 6, loss = 0.69484843\n",
      "Iteration 7, loss = 0.69529439\n",
      "Iteration 8, loss = 0.69450742\n",
      "Iteration 9, loss = 0.69490197\n",
      "Iteration 10, loss = 0.69537049\n",
      "Iteration 11, loss = 0.69491531\n",
      "Iteration 12, loss = 0.69442134\n",
      "Iteration 13, loss = 0.69451281\n",
      "Iteration 14, loss = 0.69468513\n",
      "Iteration 15, loss = 0.69464218\n",
      "Iteration 16, loss = 0.69534642\n",
      "Iteration 17, loss = 0.69501501\n",
      "Iteration 18, loss = 0.69493711\n",
      "Iteration 19, loss = 0.69429188\n",
      "Iteration 20, loss = 0.69478498\n",
      "Iteration 21, loss = 0.69417509\n",
      "Iteration 22, loss = 0.69463171\n",
      "Iteration 23, loss = 0.69542364\n",
      "Iteration 24, loss = 0.69471651\n",
      "Iteration 25, loss = 0.69424902\n",
      "Iteration 26, loss = 0.69502979\n",
      "Iteration 27, loss = 0.69515158\n",
      "Iteration 28, loss = 0.69476907\n",
      "Iteration 29, loss = 0.69517003\n",
      "Iteration 30, loss = 0.69536509\n",
      "Iteration 31, loss = 0.69541254\n",
      "Iteration 32, loss = 0.69521094\n",
      "Training loss did not improve more than tol=0.000100 for 10 consecutive epochs. Stopping.\n",
      "ANN accuracy avg.:  0.5024099999999999\n"
     ]
    }
   ],
   "source": [
    "my_ANN_pca = MLPClassifier(hidden_layer_sizes=(3,), activation= 'logistic', \n",
    "                       solver='adam', alpha=1e-5, random_state=1, \n",
    "                       learning_rate_init = 0.1, verbose=True, tol=0.0001)\n",
    "\n",
    "my_ANN_pca.fit(X_train_new, y_train)\n",
    "\n",
    "y_predict_ANN_pca = my_ANN_pca.predict(X_test_new)\n",
    "\n",
    "accuracy_list_ANN_pca = cross_val_score(my_ANN_pca, X, y, cv=10, scoring='accuracy')\n",
    "\n",
    "accuracy_ANN_pca_cv = accuracy_list_ANN_pca.mean()\n",
    "\n",
    "print('ANN accuracy avg.: ', accuracy_ANN_pca_cv)"
   ]
  },
  {
   "cell_type": "code",
   "execution_count": 39,
   "id": "28969048",
   "metadata": {},
   "outputs": [
    {
     "name": "stdout",
     "output_type": "stream",
     "text": [
      "AUC: 0.4996096504709539\n"
     ]
    }
   ],
   "source": [
    "y_predict_prob_ANN_pca = my_ANN_pca.predict_proba(X_test_new)\n",
    "\n",
    "fpr_ANN, tpr_ANN, thresholds = metrics.roc_curve(y_test, y_predict_prob_ANN_pca[:,1], pos_label=1)\n",
    "AUC_ANN_PCA = metrics.auc(fpr_ANN, tpr_ANN)\n",
    "print('AUC:',AUC_ANN_PCA)"
   ]
  },
  {
   "cell_type": "code",
   "execution_count": 44,
   "id": "d847fb28",
   "metadata": {},
   "outputs": [
    {
     "data": {
      "image/png": "[encoded data removed]",
      "text/plain": [
       "<Figure size 432x288 with 1 Axes>"
      ]
     },
     "metadata": {
      "needs_background": "light"
     },
     "output_type": "display_data"
    }
   ],
   "source": [
    "%matplotlib inline\n",
    "\n",
    "plt.figure()\n",
    "\n",
    "# Roc Curve0:\n",
    "plt.plot(fpr, tpr, color='red', lw=2, \n",
    "         label='DecisionTree (area = %0.2f)' % AUC_Tree_PCA)\n",
    "\n",
    "# Roc Curve1:\n",
    "plt.plot(fpr1, tpr1, color='green', lw=2, \n",
    "         label='Base (area = %0.2f)' % AUC_Bag_PCA)\n",
    "\n",
    "# Roc Curve2:\n",
    "plt.plot(fpr3, tpr3, color='blue', lw=2, \n",
    "         label='AdaBoost (area = %0.2f)' % AUC_Boost_PCA)\n",
    "\n",
    "# Roc Curve3:\n",
    "plt.plot(fpr4, tpr4, color='orange', lw=2, \n",
    "         label='XGBoost (area = %0.2f)' % AUC_XGBoost_PCA)\n",
    "\n",
    "# Roc Curve4:\n",
    "plt.plot(fpr4, tpr4, color='violet', lw=2, \n",
    "         label='RandomForest (area = %0.2f)' % AUC_Forest_PCA)\n",
    "\n",
    "plt.plot(fpr5, tpr5, color='yellow', lw=2, \n",
    "         label='SVC (area = %0.2f)' % AUC_SVC_PCA)\n",
    "\n",
    "plt.plot(fpr_ANN, tpr_ANN, color='black', lw=2, \n",
    "         label='ANN (area = %0.2f)' % AUC_ANN_PCA)\n",
    "\n",
    "plt.plot([0, 1], [0, 1], color='black', lw=1, linestyle='--')\n",
    "\n",
    "plt.xlim([-0.005, 1.005])\n",
    "plt.ylim([0.0, 1.01])\n",
    "\n",
    "# Labels, Title, Legend:\n",
    "plt.xlabel('False Positive Rate')\n",
    "plt.ylabel('True Positive Rate')\n",
    "plt.title('Receiver operating characteristic')\n",
    "plt.legend(loc=\"lower right\")\n",
    "\n",
    "plt.show()"
   ]
  },
  {
   "cell_type": "code",
   "execution_count": 45,
   "id": "6ca09748",
   "metadata": {},
   "outputs": [],
   "source": [
    "from sklearn.decomposition import PCA\n",
    "k = 2\n",
    "my_pca = PCA(n_components = k)\n",
    "\n",
    "X_train_new = my_pca.fit_transform(X_train)\n",
    "\n",
    "X_test_new = my_pca.transform(X_test)"
   ]
  },
  {
   "cell_type": "code",
   "execution_count": 46,
   "id": "514a2dcd",
   "metadata": {},
   "outputs": [
    {
     "name": "stdout",
     "output_type": "stream",
     "text": [
      "Kmeans accuracy:  0.33773333333333333\n"
     ]
    }
   ],
   "source": [
    "from sklearn.cluster import KMeans\n",
    "\n",
    "my_KMeans = KMeans(n_clusters=3)\n",
    "my_KMeans.fit(X_train_new)\n",
    "\n",
    "my_kmeans_predict = my_KMeans.predict(X_test_new)\n",
    "my_kmeans_score = accuracy_score(y_test, my_kmeans_predict)\n",
    "print('Kmeans accuracy: ', my_kmeans_score)"
   ]
  },
  {
   "cell_type": "code",
   "execution_count": 47,
   "id": "5b1d12ad",
   "metadata": {},
   "outputs": [
    {
     "data": {
      "text/plain": [
       "<function matplotlib.pyplot.show(close=None, block=None)>"
      ]
     },
     "execution_count": 47,
     "metadata": {},
     "output_type": "execute_result"
    },
    {
     "data": {
      "image/png": "[encoded data removed]",
      "text/plain": [
       "<Figure size 432x288 with 1 Axes>"
      ]
     },
     "metadata": {
      "needs_background": "light"
     },
     "output_type": "display_data"
    }
   ],
   "source": [
    "%matplotlib inline\n",
    "\n",
    "labels = my_KMeans.labels_\n",
    "\n",
    "centers = my_KMeans.cluster_centers_\n",
    "\n",
    "plt.figure\n",
    "\n",
    "for l, c in zip([0,1,2], ['red', 'blue', 'green']):\n",
    "    \n",
    "    current_members = (labels == l)\n",
    "    current_center = centers[l]\n",
    "    \n",
    "    plt.scatter(X_train_new[current_members,0], X_train_new[current_members,1], color = c, marker='x')\n",
    "    \n",
    "    plt.plot(current_center[0], current_center[1], 'o', markerfacecolor = c,\n",
    "            markeredgecolor = 'k', markersize=7)\n",
    "\n",
    "plt.xlim([-900, 900])\n",
    "plt.ylim([-400, 400])\n",
    "\n",
    "plt.show"
   ]
  },
  {
   "cell_type": "code",
   "execution_count": null,
   "id": "1175223f",
   "metadata": {},
   "outputs": [],
   "source": []
  }
 ],
 "metadata": {
  "kernelspec": {
   "display_name": "Python 3",
   "language": "python",
   "name": "python3"
  },
  "language_info": {
   "codemirror_mode": {
    "name": "ipython",
    "version": 3
   },
   "file_extension": ".py",
   "mimetype": "text/x-python",
   "name": "python",
   "nbconvert_exporter": "python",
   "pygments_lexer": "ipython3",
   "version": "3.8.8"
  }
 },
 "nbformat": 4,
 "nbformat_minor": 5
}
